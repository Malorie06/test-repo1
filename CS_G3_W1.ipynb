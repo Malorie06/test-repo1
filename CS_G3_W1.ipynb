{
  "nbformat": 4,
  "nbformat_minor": 0,
  "metadata": {
    "colab": {
      "provenance": []
    },
    "kernelspec": {
      "name": "python3",
      "display_name": "Python 3"
    },
    "language_info": {
      "name": "python"
    }
  },
  "cells": [
    {
      "cell_type": "code",
      "execution_count": null,
      "metadata": {
        "colab": {
          "base_uri": "https://localhost:8080/",
          "height": 86
        },
        "id": "FPLrjgY81Udb",
        "outputId": "0fafa95b-b008-4946-b6d1-5a538fe86ccb"
      },
      "outputs": [
        {
          "name": "stdout",
          "output_type": "stream",
          "text": [
            "Malorie\n",
            "London\n",
            "entern a name: Malorie\n"
          ]
        },
        {
          "output_type": "execute_result",
          "data": {
            "text/plain": [
              "' Malorie'"
            ],
            "application/vnd.google.colaboratory.intrinsic+json": {
              "type": "string"
            }
          },
          "metadata": {},
          "execution_count": 6
        }
      ],
      "source": [
        "print(\"Malorie\")\n",
        "print(\"London\")\n",
        "input(\"entern a name:\")\n",
        "\n"
      ]
    },
    {
      "cell_type": "markdown",
      "source": [],
      "metadata": {
        "id": "_xDRTeGK24na"
      }
    },
    {
      "cell_type": "code",
      "source": [
        "name = input(\"enter your name : \")\n",
        "city = input(\"enter a city: \")\n",
        "print(\"Hello\", name,\"from\", city)"
      ],
      "metadata": {
        "colab": {
          "base_uri": "https://localhost:8080/"
        },
        "id": "sIPMkSOJ25V6",
        "outputId": "f918aae6-ab7e-4277-8bdb-da902d0d0d12"
      },
      "execution_count": null,
      "outputs": [
        {
          "output_type": "stream",
          "name": "stdout",
          "text": [
            "enter your name : Malorie\n",
            "enter a city: Paris\n",
            "Hello Malorie from Paris\n"
          ]
        }
      ]
    },
    {
      "cell_type": "markdown",
      "source": [
        "Exercise:\n",
        "\n",
        "Ask the user to enter their name, tel num and city.\n",
        "Print in the following form\n",
        "Stelios from Paris tel is 34343434\n"
      ],
      "metadata": {
        "id": "rlYcb0T73kt2"
      }
    },
    {
      "cell_type": "code",
      "source": [
        "name = input(\"enter your name: \" )\n",
        "city = input(\" enter a city: \")\n",
        "tel = input (\"enter your tel nb : \")\n",
        "print(name, \"from\", city,\"tel is\", tel)\n"
      ],
      "metadata": {
        "colab": {
          "base_uri": "https://localhost:8080/"
        },
        "id": "m7lp6DtV36R0",
        "outputId": "e9c04bd5-6820-4806-e504-39f548e4e836"
      },
      "execution_count": null,
      "outputs": [
        {
          "output_type": "stream",
          "name": "stdout",
          "text": [
            "enter your name: Malorie\n",
            " enter a city: paris \n",
            "enter your tel nb : 343434434\n",
            "Malorie from paris  tel is 343434434\n"
          ]
        }
      ]
    },
    {
      "cell_type": "code",
      "source": [
        "age = int(input(\"how old are you ? \"))\n",
        "print(age)"
      ],
      "metadata": {
        "colab": {
          "base_uri": "https://localhost:8080/"
        },
        "id": "ac3vh7Dr4lq3",
        "outputId": "0c25d078-1bec-4766-968f-b850b67478b9"
      },
      "execution_count": null,
      "outputs": [
        {
          "output_type": "stream",
          "name": "stdout",
          "text": [
            "how old are you ? 11\n",
            "11\n"
          ]
        }
      ]
    },
    {
      "cell_type": "code",
      "source": [
        "x = int (input(\"choose first number\"))\n",
        "y = int(input(\"choose second number\"))\n",
        "print(x/y)"
      ],
      "metadata": {
        "colab": {
          "base_uri": "https://localhost:8080/"
        },
        "id": "NVmEFML756MN",
        "outputId": "c0bbf041-671c-4bae-ba56-263951fa6376"
      },
      "execution_count": null,
      "outputs": [
        {
          "output_type": "stream",
          "name": "stdout",
          "text": [
            "choose first number5\n",
            "choose second number6\n",
            "11\n"
          ]
        }
      ]
    },
    {
      "cell_type": "code",
      "source": [
        "x = int(input(\"enter a number: \"))\n",
        "y = int(input(\"enter a number: \"))\n",
        "\n",
        "if y==0:\n",
        "  print(\"I cannot divide by zero \")\n",
        "else:\n",
        "  print(x/y)"
      ],
      "metadata": {
        "colab": {
          "base_uri": "https://localhost:8080/"
        },
        "id": "HtHv2RtT86cZ",
        "outputId": "4e3b14a7-4ee1-4834-f3b3-9f0f1c06d5b9"
      },
      "execution_count": null,
      "outputs": [
        {
          "output_type": "stream",
          "name": "stdout",
          "text": [
            "enter a number: 10\n",
            "enter a number: 2\n",
            "5.0\n"
          ]
        }
      ]
    },
    {
      "cell_type": "code",
      "source": [
        "x = int(input(\"enter a number: \"))\n",
        "y = int(input(\"enter a number: \"))\n",
        "if x>y:\n",
        "  print(x)\n",
        "else:\n",
        "  print(y)"
      ],
      "metadata": {
        "colab": {
          "base_uri": "https://localhost:8080/"
        },
        "id": "54ZN1hoM9Wms",
        "outputId": "e2b3f74f-1a81-41e2-a48f-e3d0a1b48656"
      },
      "execution_count": null,
      "outputs": [
        {
          "output_type": "stream",
          "name": "stdout",
          "text": [
            "enter a number: 10\n",
            "enter a number: 2\n",
            "10\n"
          ]
        }
      ]
    },
    {
      "cell_type": "code",
      "source": [
        "x = int(input(\"enter a number: \"))\n",
        "\n",
        "if x>0:\n",
        "  print(\"positive\")\n",
        "elif x==0:\n",
        "  print(\"zero\")\n",
        "else:\n",
        "  print(\"negative\")"
      ],
      "metadata": {
        "colab": {
          "base_uri": "https://localhost:8080/"
        },
        "id": "728egqJuGZKy",
        "outputId": "1b9c3935-7022-497a-bbc6-73bbc77e39cd"
      },
      "execution_count": null,
      "outputs": [
        {
          "output_type": "stream",
          "name": "stdout",
          "text": [
            "enter a number: 78\n",
            "positive\n"
          ]
        }
      ]
    },
    {
      "cell_type": "code",
      "source": [
        "x = int(input(\"enter a number: \"))\n",
        "\n",
        "x = int(input(\"enter a number: \"))\n"
      ],
      "metadata": {
        "colab": {
          "base_uri": "https://localhost:8080/"
        },
        "id": "zSqKEbPgHPKi",
        "outputId": "421b2e46-36b7-4536-929c-5c876d5859ae"
      },
      "execution_count": null,
      "outputs": [
        {
          "output_type": "stream",
          "name": "stdout",
          "text": [
            "enter a number: 10\n",
            "number between 0 adn 10\n"
          ]
        }
      ]
    },
    {
      "cell_type": "code",
      "source": [
        "x = int(input(\"enter your grade: \"))\n",
        "\n",
        "if x<=0 and x<10:\n",
        "  print(\"fail\")\n",
        "elif x>=10 and x<15:\n",
        "  print(\"pass\")\n",
        "elif x>=15 and x<=20:\n",
        "  print(\"distinction\")\n",
        "else:\n",
        "  print(\"error\")"
      ],
      "metadata": {
        "colab": {
          "base_uri": "https://localhost:8080/"
        },
        "id": "xL7zjswwH4va",
        "outputId": "5eb7250d-bc3a-47bd-c597-b714a5950955"
      },
      "execution_count": null,
      "outputs": [
        {
          "output_type": "stream",
          "name": "stdout",
          "text": [
            "enter your grade: 16\n",
            "distinction\n"
          ]
        }
      ]
    }
  ]
}